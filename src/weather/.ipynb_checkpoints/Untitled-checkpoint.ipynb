{
 "cells": [
  {
   "cell_type": "code",
   "execution_count": 1,
   "metadata": {},
   "outputs": [],
   "source": [
    "# 4117351000 비산1동"
   ]
  },
  {
   "cell_type": "code",
   "execution_count": 2,
   "metadata": {},
   "outputs": [
    {
     "ename": "SyntaxError",
     "evalue": "invalid syntax (<ipython-input-2-30828d50bf55>, line 1)",
     "output_type": "error",
     "traceback": [
      "\u001b[1;36m  File \u001b[1;32m\"<ipython-input-2-30828d50bf55>\"\u001b[1;36m, line \u001b[1;32m1\u001b[0m\n\u001b[1;33m    0f2to44ZSBP527qwIw6lc6b0cRp22W2ThXgWnrfMGyXeaLSHv7fswO0997FTVjRP38E5jNoHB0m0mZZuNDQx%2BQ%3D%3D\u001b[0m\n\u001b[1;37m                                                                                       ^\u001b[0m\n\u001b[1;31mSyntaxError\u001b[0m\u001b[1;31m:\u001b[0m invalid syntax\n"
     ]
    }
   ],
   "source": [
    "0f2to44ZSBP527qwIw6lc6b0cRp22W2ThXgWnrfMGyXeaLSHv7fswO0997FTVjRP38E5jNoHB0m0mZZuNDQx%2BQ%3D%3D"
   ]
  },
  {
   "cell_type": "code",
   "execution_count": 35,
   "metadata": {},
   "outputs": [],
   "source": [
    "def make_tmfc():\n",
    "    tmFc = time.strftime('%Y%m%d', time.localtime(time.time()))\n",
    "    hour = int(time.strftime('%H', time.localtime(time.time())))\n",
    "    if hour >= 18:\n",
    "        tmFc+=\"1800\"\n",
    "    else:\n",
    "        tmFc+=\"0600\"\n",
    "    return \"&tmFc=\"+tmFc"
   ]
  },
  {
   "cell_type": "code",
   "execution_count": 47,
   "metadata": {},
   "outputs": [],
   "source": [
    "import json\n",
    "import urllib.request\n",
    "import time\n",
    "\n",
    "\n",
    "def get_mid_weather(regID = '11D20501'):\n",
    "    address = \"http://apis.data.go.kr/1360000/MidFcstInfoService/getMidTa?serviceKey=0f2to44ZSBP527qwIw6lc6b0cRp22W2ThXgWnrfMGyXeaLSHv7fswO0997FTVjRP38E5jNoHB0m0mZZuNDQx%2BQ%3D%3D&numOfRows=10&pageNo=1&dataType=JSON\"\n",
    "    req = urllib.request.urlopen(address+make_tmfc()+'&regId='+regID)\n",
    "    res = req.readline()\n",
    "\n",
    "    j = json.loads(res)\n",
    "\n",
    "    if j['response']['header']['resultCode'] == '00':\n",
    "        print('API CALL Success')\n",
    "        j = j['response']['body']['items']['item'][0]\n",
    "        print(j)\n",
    "    else :\n",
    "        print('API CALL Failure')"
   ]
  },
  {
   "cell_type": "code",
   "execution_count": 46,
   "metadata": {},
   "outputs": [
    {
     "name": "stdout",
     "output_type": "stream",
     "text": [
      "API CALL Success\n",
      "{'regId': '11D20501', 'taMin3': 22, 'taMin3Low': 1, 'taMin3High': 1, 'taMax3': 30, 'taMax3Low': 0, 'taMax3High': 1, 'taMin4': 20, 'taMin4Low': 1, 'taMin4High': 1, 'taMax4': 28, 'taMax4Low': 1, 'taMax4High': 1, 'taMin5': 21, 'taMin5Low': 2, 'taMin5High': 1, 'taMax5': 28, 'taMax5Low': 2, 'taMax5High': 2, 'taMin6': 19, 'taMin6Low': 1, 'taMin6High': 1, 'taMax6': 24, 'taMax6Low': 2, 'taMax6High': 2, 'taMin7': 18, 'taMin7Low': 1, 'taMin7High': 1, 'taMax7': 24, 'taMax7Low': 2, 'taMax7High': 2, 'taMin8': 18, 'taMin8Low': 0, 'taMin8High': 1, 'taMax8': 24, 'taMax8Low': 0, 'taMax8High': 2, 'taMin9': 19, 'taMin9Low': 0, 'taMin9High': 1, 'taMax9': 24, 'taMax9Low': 0, 'taMax9High': 2, 'taMin10': 19, 'taMin10Low': 0, 'taMin10High': 2, 'taMax10': 25, 'taMax10Low': 0, 'taMax10High': 3}\n"
     ]
    }
   ],
   "source": [
    "get_mid_weather()"
   ]
  },
  {
   "cell_type": "code",
   "execution_count": 30,
   "metadata": {},
   "outputs": [],
   "source": [
    "# 1서울 경기도 2 경남 3 경북 4 전남 5 전북 6대전.세종.충청남도 7충청북도 8 강원도 9 제주도"
   ]
  },
  {
   "cell_type": "code",
   "execution_count": 31,
   "metadata": {},
   "outputs": [
    {
     "data": {
      "text/plain": [
       "'202006120600'"
      ]
     },
     "execution_count": 31,
     "metadata": {},
     "output_type": "execute_result"
    }
   ],
   "source": [
    "make_tmfc()"
   ]
  },
  {
   "cell_type": "code",
   "execution_count": 19,
   "metadata": {},
   "outputs": [
    {
     "data": {
      "text/plain": [
       "{'resultCode': '00', 'resultMsg': 'NORMAL_SERVICE'}"
      ]
     },
     "execution_count": 19,
     "metadata": {},
     "output_type": "execute_result"
    }
   ],
   "source": [
    "서울, 인천, 수원, 성남\n",
    "안양\n",
    "광명\n",
    "과천\n",
    "평택\n",
    "오산\n",
    "의왕\n",
    "용인\n",
    "군포\n",
    "안성\n",
    "화성\n",
    "양평\n",
    "구리\n",
    "남양주\n",
    "하남\n",
    "이천\n",
    "여주\n",
    "광주\n",
    "의정부\n",
    "고양\n",
    "파주\n",
    "양주\n",
    "동두천\n",
    "연천\n",
    "포천\n",
    "가평\n",
    "강화\n",
    "김포\n",
    "시흥\n",
    "부천\n",
    "안산\n",
    "백령도\n",
    "부산\n",
    "울산\n",
    "김해\n",
    "양산\n",
    "창원\n",
    "밀양\n",
    "함안\n",
    "창녕\n",
    "의령\n",
    "진주\n",
    "하동\n",
    "사천\n",
    "거창\n",
    "합천\n",
    "산청\n",
    "함양\n",
    "통영\n",
    "거제\n",
    "고성\n",
    "남해\n",
    "대구\n",
    "영천\n",
    "경산\n",
    "청도\n",
    "칠곡\n",
    "김천\n",
    "구미\n",
    "군위\n",
    "고령\n",
    "성주\n",
    "안동\n",
    "의성\n",
    "청송\n",
    "상주\n",
    "문경\n",
    "예천\n",
    "영주\n",
    "봉화\n",
    "영양\n",
    "울진\n",
    "영덕\n",
    "포항\n",
    "경주\n",
    "광주\n",
    "나주\n",
    "장성\n",
    "담양\n",
    "화순\n",
    "영광\n",
    "함평\n",
    "목포\n",
    "무안\n",
    "영암\n",
    "진도\n",
    "신안\n",
    "흑산도\n",
    "순천\n",
    "광양\n",
    "구례\n",
    "곡성\n",
    "완도\n",
    "강진\n",
    "장흥\n",
    "해남\n",
    "여수\n",
    "고흥\n",
    "보성\n",
    "전주\n",
    "익산\n",
    "군산\n",
    "정읍\n",
    "김제\n",
    "남원\n",
    "고창\n",
    "무주\n",
    "부안\n",
    "순창\n",
    "완주\n",
    "임실\n",
    "장수\n",
    "진안\n",
    "대전\n",
    "세종\n",
    "공주\n",
    "논산\n",
    "계룡\n",
    "금산\n",
    "천안\n",
    "아산\n",
    "예산\n",
    "서산\n",
    "태안\n",
    "당진\n",
    "홍성\n",
    "보령\n",
    "서천\n",
    "청양\n",
    "부여\n",
    "청주\n",
    "증평\n",
    "괴산\n",
    "진천\n",
    "충주\n",
    "음성\n",
    "제천\n",
    "단양\n",
    "보은\n",
    "옥천\n",
    "영동\n",
    "추풍령\n",
    "철원\n",
    "화천\n",
    "인제\n",
    "양구\n",
    "춘천\n",
    "홍천\n",
    "원주\n",
    "횡성\n",
    "영월\n",
    "정선\n",
    "평창\n",
    "대관령\n",
    "속초\n",
    "고성\n",
    "양양\n",
    "강릉\n",
    "동해\n",
    "삼척\n",
    "태백\n",
    "제주\n",
    "서귀포\n",
    "성산\n",
    "고산\n",
    "성판악\n",
    "이어도\n",
    "추자도\n"
   ]
  },
  {
   "cell_type": "code",
   "execution_count": 3,
   "metadata": {},
   "outputs": [
    {
     "ename": "UnicodeDecodeError",
     "evalue": "'cp949' codec can't decode byte 0xbf in position 2: illegal multibyte sequence",
     "output_type": "error",
     "traceback": [
      "\u001b[1;31m---------------------------------------------------------------------------\u001b[0m",
      "\u001b[1;31mUnicodeDecodeError\u001b[0m                        Traceback (most recent call last)",
      "\u001b[1;32m<ipython-input-3-fe79c5d6eaa8>\u001b[0m in \u001b[0;36m<module>\u001b[1;34m\u001b[0m\n\u001b[0;32m      1\u001b[0m \u001b[1;32mimport\u001b[0m \u001b[0mnumpy\u001b[0m \u001b[1;32mas\u001b[0m \u001b[0mnp\u001b[0m\u001b[1;33m\u001b[0m\u001b[1;33m\u001b[0m\u001b[0m\n\u001b[1;32m----> 2\u001b[1;33m \u001b[0mcode\u001b[0m \u001b[1;33m=\u001b[0m \u001b[0mnp\u001b[0m\u001b[1;33m.\u001b[0m\u001b[0mloadtxt\u001b[0m\u001b[1;33m(\u001b[0m\u001b[1;34m'./code.csv'\u001b[0m\u001b[1;33m,\u001b[0m\u001b[0mdelimiter\u001b[0m\u001b[1;33m=\u001b[0m\u001b[1;34m','\u001b[0m\u001b[1;33m,\u001b[0m\u001b[0mdtype\u001b[0m\u001b[1;33m=\u001b[0m\u001b[0mnp\u001b[0m\u001b[1;33m.\u001b[0m\u001b[0mfloat32\u001b[0m\u001b[1;33m)\u001b[0m\u001b[1;33m\u001b[0m\u001b[1;33m\u001b[0m\u001b[0m\n\u001b[0m",
      "\u001b[1;32m~\\Anaconda3\\lib\\site-packages\\numpy\\lib\\npyio.py\u001b[0m in \u001b[0;36mloadtxt\u001b[1;34m(fname, dtype, comments, delimiter, converters, skiprows, usecols, unpack, ndmin, encoding, max_rows)\u001b[0m\n\u001b[0;32m   1091\u001b[0m         \u001b[1;32mtry\u001b[0m\u001b[1;33m:\u001b[0m\u001b[1;33m\u001b[0m\u001b[1;33m\u001b[0m\u001b[0m\n\u001b[0;32m   1092\u001b[0m             \u001b[1;32mwhile\u001b[0m \u001b[1;32mnot\u001b[0m \u001b[0mfirst_vals\u001b[0m\u001b[1;33m:\u001b[0m\u001b[1;33m\u001b[0m\u001b[1;33m\u001b[0m\u001b[0m\n\u001b[1;32m-> 1093\u001b[1;33m                 \u001b[0mfirst_line\u001b[0m \u001b[1;33m=\u001b[0m \u001b[0mnext\u001b[0m\u001b[1;33m(\u001b[0m\u001b[0mfh\u001b[0m\u001b[1;33m)\u001b[0m\u001b[1;33m\u001b[0m\u001b[1;33m\u001b[0m\u001b[0m\n\u001b[0m\u001b[0;32m   1094\u001b[0m                 \u001b[0mfirst_vals\u001b[0m \u001b[1;33m=\u001b[0m \u001b[0msplit_line\u001b[0m\u001b[1;33m(\u001b[0m\u001b[0mfirst_line\u001b[0m\u001b[1;33m)\u001b[0m\u001b[1;33m\u001b[0m\u001b[1;33m\u001b[0m\u001b[0m\n\u001b[0;32m   1095\u001b[0m         \u001b[1;32mexcept\u001b[0m \u001b[0mStopIteration\u001b[0m\u001b[1;33m:\u001b[0m\u001b[1;33m\u001b[0m\u001b[1;33m\u001b[0m\u001b[0m\n",
      "\u001b[1;31mUnicodeDecodeError\u001b[0m: 'cp949' codec can't decode byte 0xbf in position 2: illegal multibyte sequence"
     ]
    }
   ],
   "source": [
    "import numpy as np\n",
    "code = np.loadtxt('./code.csv',delimiter=',',dtype=np.float32)"
   ]
  },
  {
   "cell_type": "code",
   "execution_count": null,
   "metadata": {},
   "outputs": [],
   "source": []
  }
 ],
 "metadata": {
  "kernelspec": {
   "display_name": "Python 3",
   "language": "python",
   "name": "python3"
  },
  "language_info": {
   "codemirror_mode": {
    "name": "ipython",
    "version": 3
   },
   "file_extension": ".py",
   "mimetype": "text/x-python",
   "name": "python",
   "nbconvert_exporter": "python",
   "pygments_lexer": "ipython3",
   "version": "3.6.9"
  }
 },
 "nbformat": 4,
 "nbformat_minor": 2
}
