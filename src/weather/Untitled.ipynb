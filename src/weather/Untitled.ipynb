{
 "cells": [
  {
   "cell_type": "code",
   "execution_count": 1,
   "metadata": {},
   "outputs": [],
   "source": [
    "# 4117351000 비산1동"
   ]
  },
  {
   "cell_type": "code",
   "execution_count": 2,
   "metadata": {},
   "outputs": [
    {
     "ename": "SyntaxError",
     "evalue": "invalid syntax (<ipython-input-2-30828d50bf55>, line 1)",
     "output_type": "error",
     "traceback": [
      "\u001b[1;36m  File \u001b[1;32m\"<ipython-input-2-30828d50bf55>\"\u001b[1;36m, line \u001b[1;32m1\u001b[0m\n\u001b[1;33m    0f2to44ZSBP527qwIw6lc6b0cRp22W2ThXgWnrfMGyXeaLSHv7fswO0997FTVjRP38E5jNoHB0m0mZZuNDQx%2BQ%3D%3D\u001b[0m\n\u001b[1;37m                                                                                       ^\u001b[0m\n\u001b[1;31mSyntaxError\u001b[0m\u001b[1;31m:\u001b[0m invalid syntax\n"
     ]
    }
   ],
   "source": [
    "0f2to44ZSBP527qwIw6lc6b0cRp22W2ThXgWnrfMGyXeaLSHv7fswO0997FTVjRP38E5jNoHB0m0mZZuNDQx%2BQ%3D%3D"
   ]
  },
  {
   "cell_type": "code",
   "execution_count": 35,
   "metadata": {},
   "outputs": [],
   "source": [
    "def make_tmfc():\n",
    "    tmFc = time.strftime('%Y%m%d', time.localtime(time.time()))\n",
    "    hour = int(time.strftime('%H', time.localtime(time.time())))\n",
    "    if hour >= 18:\n",
    "        tmFc+=\"1800\"\n",
    "    else:\n",
    "        tmFc+=\"0600\"\n",
    "    return \"&tmFc=\"+tmFc"
   ]
  },
  {
   "cell_type": "code",
   "execution_count": 45,
   "metadata": {},
   "outputs": [],
   "source": [
    "import json\n",
    "import urllib.request\n",
    "import time\n",
    "\n",
    "\n",
    "def get_mid_weather(regID = '11D20501'):\n",
    "    address = \"http://apis.data.go.kr/1360000/MidFcstInfoService/getMidTa?serviceKey=0f2to44ZSBP527qwIw6lc6b0cRp22W2ThXgWnrfMGyXeaLSHv7fswO0997FTVjRP38E5jNoHB0m0mZZuNDQx%2BQ%3D%3D&numOfRows=10&pageNo=1&dataType=JSON\"\n",
    "    req = urllib.request.urlopen(address+make_tmfc()+'&regId='+regID)\n",
    "    res = req.readline()\n",
    "\n",
    "    j = json.loads(res)\n",
    "\n",
    "    if j['response']['header']['resultCode'] == '00':\n",
    "        print('API CALL Success')\n",
    "        j = j['response']['body']['items']['item'][0]\n",
    "        print(j)\n",
    "    else :\n",
    "        print('API CALL Failure')"
   ]
  },
  {
   "cell_type": "code",
   "execution_count": 46,
   "metadata": {},
   "outputs": [
    {
     "name": "stdout",
     "output_type": "stream",
     "text": [
      "API CALL Success\n",
      "{'regId': '11D20501', 'taMin3': 22, 'taMin3Low': 1, 'taMin3High': 1, 'taMax3': 30, 'taMax3Low': 0, 'taMax3High': 1, 'taMin4': 20, 'taMin4Low': 1, 'taMin4High': 1, 'taMax4': 28, 'taMax4Low': 1, 'taMax4High': 1, 'taMin5': 21, 'taMin5Low': 2, 'taMin5High': 1, 'taMax5': 28, 'taMax5Low': 2, 'taMax5High': 2, 'taMin6': 19, 'taMin6Low': 1, 'taMin6High': 1, 'taMax6': 24, 'taMax6Low': 2, 'taMax6High': 2, 'taMin7': 18, 'taMin7Low': 1, 'taMin7High': 1, 'taMax7': 24, 'taMax7Low': 2, 'taMax7High': 2, 'taMin8': 18, 'taMin8Low': 0, 'taMin8High': 1, 'taMax8': 24, 'taMax8Low': 0, 'taMax8High': 2, 'taMin9': 19, 'taMin9Low': 0, 'taMin9High': 1, 'taMax9': 24, 'taMax9Low': 0, 'taMax9High': 2, 'taMin10': 19, 'taMin10Low': 0, 'taMin10High': 2, 'taMax10': 25, 'taMax10Low': 0, 'taMax10High': 3}\n"
     ]
    }
   ],
   "source": [
    "get_mid_weather()"
   ]
  },
  {
   "cell_type": "code",
   "execution_count": 30,
   "metadata": {},
   "outputs": [],
   "source": []
  },
  {
   "cell_type": "code",
   "execution_count": 31,
   "metadata": {},
   "outputs": [
    {
     "data": {
      "text/plain": [
       "'202006120600'"
      ]
     },
     "execution_count": 31,
     "metadata": {},
     "output_type": "execute_result"
    }
   ],
   "source": [
    "make_tmfc()"
   ]
  },
  {
   "cell_type": "code",
   "execution_count": 19,
   "metadata": {},
   "outputs": [
    {
     "data": {
      "text/plain": [
       "{'resultCode': '00', 'resultMsg': 'NORMAL_SERVICE'}"
      ]
     },
     "execution_count": 19,
     "metadata": {},
     "output_type": "execute_result"
    }
   ],
   "source": [
    "a"
   ]
  },
  {
   "cell_type": "code",
   "execution_count": null,
   "metadata": {},
   "outputs": [],
   "source": []
  }
 ],
 "metadata": {
  "kernelspec": {
   "display_name": "Python 3",
   "language": "python",
   "name": "python3"
  },
  "language_info": {
   "codemirror_mode": {
    "name": "ipython",
    "version": 3
   },
   "file_extension": ".py",
   "mimetype": "text/x-python",
   "name": "python",
   "nbconvert_exporter": "python",
   "pygments_lexer": "ipython3",
   "version": "3.6.9"
  }
 },
 "nbformat": 4,
 "nbformat_minor": 2
}
