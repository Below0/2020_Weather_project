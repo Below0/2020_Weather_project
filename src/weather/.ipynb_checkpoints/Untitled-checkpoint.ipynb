{
 "cells": [
  {
   "cell_type": "code",
   "execution_count": 1,
   "metadata": {},
   "outputs": [],
   "source": [
    "# 4117351000 비산1동"
   ]
  },
  {
   "cell_type": "code",
   "execution_count": 2,
   "metadata": {},
   "outputs": [
    {
     "ename": "SyntaxError",
     "evalue": "invalid syntax (<ipython-input-2-30828d50bf55>, line 1)",
     "output_type": "error",
     "traceback": [
      "\u001b[1;36m  File \u001b[1;32m\"<ipython-input-2-30828d50bf55>\"\u001b[1;36m, line \u001b[1;32m1\u001b[0m\n\u001b[1;33m    0f2to44ZSBP527qwIw6lc6b0cRp22W2ThXgWnrfMGyXeaLSHv7fswO0997FTVjRP38E5jNoHB0m0mZZuNDQx%2BQ%3D%3D\u001b[0m\n\u001b[1;37m                                                                                       ^\u001b[0m\n\u001b[1;31mSyntaxError\u001b[0m\u001b[1;31m:\u001b[0m invalid syntax\n"
     ]
    }
   ],
   "source": []
  },
  {
   "cell_type": "code",
   "execution_count": 1,
   "metadata": {},
   "outputs": [],
   "source": [
    "def make_tmfc(): # 현재 시간을 기점으로 가장 마지막 예보 시간을 리턴\n",
    "    tmFc = time.strftime('%Y%m%d', time.localtime(time.time()))\n",
    "    hour = int(time.strftime('%H', time.localtime(time.time())))\n",
    "    if hour >= 18:\n",
    "        tmFc+=\"1800\"\n",
    "    else:\n",
    "        tmFc+=\"0600\"\n",
    "    return \"&tmFc=\"+tmFc"
   ]
  },
  {
   "cell_type": "code",
   "execution_count": 35,
   "metadata": {},
   "outputs": [],
   "source": [
    "import json\n",
    "import urllib.request\n",
    "import time\n",
    "from datetime import datetime, timedelta\n",
    "\n",
    "import json\n",
    "with open(\"./config/config.json\", \"r\") as sk_json:\n",
    "    service_key = json.load(sk_json)['key']\n",
    "    \n",
    "class ShortWeatherService:\n",
    "    \n",
    "    def get_fcst(self,regID = '11B10101'):\n",
    "        result_dict = {}\n",
    "        address = \"http://apis.data.go.kr/1360000/VilageFcstMsgService/getLandFcst?serviceKey=\"+service_key+\"&numOfRows=10&pageNo=1&numOfRows=10&pageNo=1&dataType=JSON\"\n",
    "        req = urllib.request.urlopen(address+\"&regId=\"+regID)\n",
    "        res = req.readline()\n",
    "        print(address+\"&regId=\"+regID)\n",
    "\n",
    "        j = json.loads(res)\n",
    "\n",
    "        if j['response']['header']['resultCode'] == '00':\n",
    "            j = j['response']['body']['items']['item']\n",
    "            print(j[1])\n",
    "        else :\n",
    "            print('API CALL Failure')\n",
    "\n",
    "class MidWeatherService: # 중기예보 서비스 모듈\n",
    "    #default = 서울\n",
    "\n",
    "    \n",
    "    def get_temperature(self,regID = '11B10101'):\n",
    "        address = \"http://apis.data.go.kr/1360000/MidFcstInfoService/getMidTa?serviceKey=\"+service_key+\"&numOfRows=10&pageNo=1&dataType=JSON\"\n",
    "        req = urllib.request.urlopen(address+make_tmfc()+\"&regId=\"+regID)\n",
    "        res = req.readline()\n",
    "\n",
    "        j = json.loads(res)\n",
    "        if j['response']['header']['resultCode'] == '00':\n",
    "            return j['response']['body']['items']['item'][0]\n",
    "            \n",
    "        else :\n",
    "            print('API CALL Failure')\n",
    "            \n",
    "    def get_fcst(self, regID = '11B00000'):\n",
    "        address = \"http://apis.data.go.kr/1360000/MidFcstInfoService/getMidLandFcst?serviceKey=\"+service_key+\"&numOfRows=10&pageNo=1&dataType=JSON\"\n",
    "        req = urllib.request.urlopen(address+make_tmfc()+\"&regId=\"+regID)\n",
    "        \n",
    "        #print(address+make_tmfc()+\"&regId=\"+regID)\n",
    "        print(\"\")\n",
    "        \n",
    "        res = req.readline()\n",
    "        j = json.loads(res)\n",
    "        if j['response']['header']['resultCode'] == '00':\n",
    "            return j['response']['body']['items']['item'][0]\n",
    "            \n",
    "        else :\n",
    "            print('API CALL Failure')\n",
    "            \n",
    "    def make_record(self, regID = '11B00000'):\n",
    "        \n",
    "        date = datetime.now()\n",
    "        result = []\n",
    "        ta = self.get_temperature()\n",
    "        fcst = self.get_fcst()\n",
    "        \n",
    "        for day in range(3, 11):\n",
    "            target_date = (date + timedelta(days=day)).strftime('%Y%m%d')\n",
    "            record = {}\n",
    "            record = {'date':target_date, 'regID':regID, 'taMin':ta['taMin'+str(day)],'taMax':ta['taMax'+str(day)]}\n",
    "            \n",
    "            rn_key = 'rnSt'+str(day)\n",
    "            wf_key = 'wf'+str(day)\n",
    "            \n",
    "            if day < 8:\n",
    "                rnSt = int((int(fcst[rn_key+'Am'])+int(fcst[rn_key+'Pm']))/2)\n",
    "                record['wfAm'] = fcst[wf_key+'Am']\n",
    "                record['wfPm'] = fcst[wf_key+'Pm']\n",
    "            else :\n",
    "                rnSt = int(fcst[rn_key])\n",
    "                record['wf'] = fcst[wf_key]\n",
    "                \n",
    "            record['rnSt'] = rnSt\n",
    "            result.append(record)\n",
    "            \n",
    "        return result\n",
    "            \n",
    "                \n",
    "            \n",
    "            \n",
    "        \n",
    "            \n",
    "            \n"
   ]
  },
  {
   "cell_type": "code",
   "execution_count": 36,
   "metadata": {},
   "outputs": [
    {
     "name": "stdout",
     "output_type": "stream",
     "text": [
      "\n"
     ]
    },
    {
     "data": {
      "text/plain": [
       "[{'date': '20200702',\n",
       "  'regID': '11B00000',\n",
       "  'taMin': 21,\n",
       "  'taMax': 30,\n",
       "  'wfAm': '구름많음',\n",
       "  'wfPm': '구름많음',\n",
       "  'rnSt': 20},\n",
       " {'date': '20200703',\n",
       "  'regID': '11B00000',\n",
       "  'taMin': 22,\n",
       "  'taMax': 29,\n",
       "  'wfAm': '구름많음',\n",
       "  'wfPm': '구름많음',\n",
       "  'rnSt': 30},\n",
       " {'date': '20200704',\n",
       "  'regID': '11B00000',\n",
       "  'taMin': 22,\n",
       "  'taMax': 29,\n",
       "  'wfAm': '맑음',\n",
       "  'wfPm': '구름많음',\n",
       "  'rnSt': 25},\n",
       " {'date': '20200705',\n",
       "  'regID': '11B00000',\n",
       "  'taMin': 23,\n",
       "  'taMax': 29,\n",
       "  'wfAm': '구름많음',\n",
       "  'wfPm': '흐리고 비',\n",
       "  'rnSt': 45},\n",
       " {'date': '20200706',\n",
       "  'regID': '11B00000',\n",
       "  'taMin': 22,\n",
       "  'taMax': 28,\n",
       "  'wfAm': '흐리고 비',\n",
       "  'wfPm': '흐리고 비',\n",
       "  'rnSt': 80},\n",
       " {'date': '20200707',\n",
       "  'regID': '11B00000',\n",
       "  'taMin': 23,\n",
       "  'taMax': 28,\n",
       "  'wf': '흐리고 비',\n",
       "  'rnSt': 80},\n",
       " {'date': '20200708',\n",
       "  'regID': '11B00000',\n",
       "  'taMin': 23,\n",
       "  'taMax': 29,\n",
       "  'wf': '흐림',\n",
       "  'rnSt': 40},\n",
       " {'date': '20200709',\n",
       "  'regID': '11B00000',\n",
       "  'taMin': 22,\n",
       "  'taMax': 29,\n",
       "  'wf': '흐림',\n",
       "  'rnSt': 40}]"
      ]
     },
     "execution_count": 36,
     "metadata": {},
     "output_type": "execute_result"
    }
   ],
   "source": [
    "mid = MidWeatherService()\n",
    "mid.make_record()"
   ]
  },
  {
   "cell_type": "code",
   "execution_count": 37,
   "metadata": {
    "scrolled": true
   },
   "outputs": [],
   "source": [
    "short = ShortWeatherService()"
   ]
  },
  {
   "cell_type": "code",
   "execution_count": 34,
   "metadata": {},
   "outputs": [
    {
     "name": "stdout",
     "output_type": "stream",
     "text": [
      "http://apis.data.go.kr/1360000/VilageFcstMsgService/getLandFcst?serviceKey=0f2to44ZSBP527qwIw6lc6b0cRp22W2ThXgWnrfMGyXeaLSHv7fswO0997FTVjRP38E5jNoHB0m0mZZuNDQx%2BQ%3D%3D&numOfRows=10&pageNo=1&numOfRows=10&pageNo=1&dataType=JSON&regId=11B10101\n",
      "{'announceTime': 202006291100, 'numEf': 0, 'regId': '11B10101', 'rnSt': 80, 'rnYn': 1, 'ta': 29, 'wd1': 'NE', 'wd2': 'E', 'wdTnd': '1', 'wf': '흐리고 비', 'wfCd': 'DB04', 'wsIt': '3'}\n"
     ]
    }
   ],
   "source": [
    "short.get_fcst()\n",
    "\n"
   ]
  },
  {
   "cell_type": "code",
   "execution_count": 10,
   "metadata": {},
   "outputs": [],
   "source": [
    "c = {\"1\":\"cc\"}\n",
    "t = {\"a\":\"b\"}"
   ]
  },
  {
   "cell_type": "code",
   "execution_count": 11,
   "metadata": {},
   "outputs": [],
   "source": [
    "merged = {**c, **t}"
   ]
  },
  {
   "cell_type": "code",
   "execution_count": 12,
   "metadata": {},
   "outputs": [
    {
     "name": "stdout",
     "output_type": "stream",
     "text": [
      "{'1': 'cc', 'a': 'b'}\n"
     ]
    }
   ],
   "source": [
    "print(merged)"
   ]
  },
  {
   "cell_type": "code",
   "execution_count": null,
   "metadata": {},
   "outputs": [],
   "source": []
  }
 ],
 "metadata": {
  "kernelspec": {
   "display_name": "Python 3",
   "language": "python",
   "name": "python3"
  },
  "language_info": {
   "codemirror_mode": {
    "name": "ipython",
    "version": 3
   },
   "file_extension": ".py",
   "mimetype": "text/x-python",
   "name": "python",
   "nbconvert_exporter": "python",
   "pygments_lexer": "ipython3",
   "version": "3.6.9"
  }
 },
 "nbformat": 4,
 "nbformat_minor": 2
}
