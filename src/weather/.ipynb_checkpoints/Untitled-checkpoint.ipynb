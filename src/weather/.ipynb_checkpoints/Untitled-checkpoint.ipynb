{
 "cells": [
  {
   "cell_type": "code",
   "execution_count": 1,
   "metadata": {},
   "outputs": [],
   "source": [
    "# 4117351000 비산1동"
   ]
  },
  {
   "cell_type": "code",
   "execution_count": 2,
   "metadata": {},
   "outputs": [
    {
     "ename": "SyntaxError",
     "evalue": "invalid syntax (<ipython-input-2-30828d50bf55>, line 1)",
     "output_type": "error",
     "traceback": [
      "\u001b[1;36m  File \u001b[1;32m\"<ipython-input-2-30828d50bf55>\"\u001b[1;36m, line \u001b[1;32m1\u001b[0m\n\u001b[1;33m    0f2to44ZSBP527qwIw6lc6b0cRp22W2ThXgWnrfMGyXeaLSHv7fswO0997FTVjRP38E5jNoHB0m0mZZuNDQx%2BQ%3D%3D\u001b[0m\n\u001b[1;37m                                                                                       ^\u001b[0m\n\u001b[1;31mSyntaxError\u001b[0m\u001b[1;31m:\u001b[0m invalid syntax\n"
     ]
    }
   ],
   "source": [
    "0f2to44ZSBP527qwIw6lc6b0cRp22W2ThXgWnrfMGyXeaLSHv7fswO0997FTVjRP38E5jNoHB0m0mZZuNDQx%2BQ%3D%3D"
   ]
  },
  {
   "cell_type": "code",
   "execution_count": 3,
   "metadata": {},
   "outputs": [
    {
     "ename": "SyntaxError",
     "evalue": "invalid syntax (<ipython-input-3-a3d363ad44a4>, line 1)",
     "output_type": "error",
     "traceback": [
      "\u001b[1;36m  File \u001b[1;32m\"<ipython-input-3-a3d363ad44a4>\"\u001b[1;36m, line \u001b[1;32m1\u001b[0m\n\u001b[1;33m    http://apis.data.go.kr/1360000/MidFcstInfoService/getMidTa?serviceKey=0f2to44ZSBP527qwIw6lc6b0cRp22W2ThXgWnrfMGyXeaLSHv7fswO0997FTVjRP38E5jNoHB0m0mZZuNDQx%2BQ%3D%3D&numOfRows=10&pageNo=1&regId=11D20501&tmFc=202006110600&dataType=JSON\u001b[0m\n\u001b[1;37m          ^\u001b[0m\n\u001b[1;31mSyntaxError\u001b[0m\u001b[1;31m:\u001b[0m invalid syntax\n"
     ]
    }
   ],
   "source": [
    "http://apis.data.go.kr/1360000/MidFcstInfoService/getMidTa?serviceKey=0f2to44ZSBP527qwIw6lc6b0cRp22W2ThXgWnrfMGyXeaLSHv7fswO0997FTVjRP38E5jNoHB0m0mZZuNDQx%2BQ%3D%3D&numOfRows=10&pageNo=1&regId=11D20501&tmFc=202006110600&dataType=JSON"
   ]
  },
  {
   "cell_type": "code",
   "execution_count": 30,
   "metadata": {},
   "outputs": [
    {
     "name": "stdout",
     "output_type": "stream",
     "text": [
      "API CALL Success\n",
      "{'regId': '11D20501', 'taMin3': 21, 'taMin3Low': 1, 'taMin3High': 1, 'taMax3': 32, 'taMax3Low': 2, 'taMax3High': 1, 'taMin4': 23, 'taMin4Low': 2, 'taMin4High': 1, 'taMax4': 33, 'taMax4Low': 2, 'taMax4High': 1, 'taMin5': 20, 'taMin5Low': 1, 'taMin5High': 1, 'taMax5': 28, 'taMax5Low': 2, 'taMax5High': 1, 'taMin6': 19, 'taMin6Low': 1, 'taMin6High': 1, 'taMax6': 26, 'taMax6Low': 1, 'taMax6High': 2, 'taMin7': 19, 'taMin7Low': 1, 'taMin7High': 1, 'taMax7': 26, 'taMax7Low': 2, 'taMax7High': 2, 'taMin8': 19, 'taMin8Low': 0, 'taMin8High': 1, 'taMax8': 24, 'taMax8Low': 0, 'taMax8High': 2, 'taMin9': 19, 'taMin9Low': 0, 'taMin9High': 2, 'taMax9': 24, 'taMax9Low': 0, 'taMax9High': 2, 'taMin10': 20, 'taMin10Low': 0, 'taMin10High': 2, 'taMax10': 24, 'taMax10Low': 0, 'taMax10High': 1}\n"
     ]
    }
   ],
   "source": [
    "import json\n",
    "import urllib.request\n",
    "\n",
    "coin_address = \"http://apis.data.go.kr/1360000/MidFcstInfoService/getMidTa?serviceKey=0f2to44ZSBP527qwIw6lc6b0cRp22W2ThXgWnrfMGyXeaLSHv7fswO0997FTVjRP38E5jNoHB0m0mZZuNDQx%2BQ%3D%3D&numOfRows=10&pageNo=1&regId=11D20501&tmFc=202006110600&dataType=JSON\"\n",
    " \n",
    "req = urllib.request.urlopen(coin_address)\n",
    "res = req.readline()\n",
    "\n",
    "j = json.loads(res)\n",
    "\n",
    "if j['response']['header']['resultCode'] == '00':\n",
    "    print('API CALL Success')\n",
    "    j = j['response']['body']['items']['item'][0]\n",
    "    print(j)\n",
    "else :\n",
    "    print('API CALL Failure')"
   ]
  },
  {
   "cell_type": "code",
   "execution_count": 26,
   "metadata": {},
   "outputs": [
    {
     "data": {
      "text/plain": [
       "{'response': {'header': {'resultCode': '00', 'resultMsg': 'NORMAL_SERVICE'},\n",
       "  'body': {'dataType': 'JSON',\n",
       "   'items': {'item': [{'regId': '11D20501',\n",
       "      'taMin3': 21,\n",
       "      'taMin3Low': 1,\n",
       "      'taMin3High': 1,\n",
       "      'taMax3': 32,\n",
       "      'taMax3Low': 2,\n",
       "      'taMax3High': 1,\n",
       "      'taMin4': 23,\n",
       "      'taMin4Low': 2,\n",
       "      'taMin4High': 1,\n",
       "      'taMax4': 33,\n",
       "      'taMax4Low': 2,\n",
       "      'taMax4High': 1,\n",
       "      'taMin5': 20,\n",
       "      'taMin5Low': 1,\n",
       "      'taMin5High': 1,\n",
       "      'taMax5': 28,\n",
       "      'taMax5Low': 2,\n",
       "      'taMax5High': 1,\n",
       "      'taMin6': 19,\n",
       "      'taMin6Low': 1,\n",
       "      'taMin6High': 1,\n",
       "      'taMax6': 26,\n",
       "      'taMax6Low': 1,\n",
       "      'taMax6High': 2,\n",
       "      'taMin7': 19,\n",
       "      'taMin7Low': 1,\n",
       "      'taMin7High': 1,\n",
       "      'taMax7': 26,\n",
       "      'taMax7Low': 2,\n",
       "      'taMax7High': 2,\n",
       "      'taMin8': 19,\n",
       "      'taMin8Low': 0,\n",
       "      'taMin8High': 1,\n",
       "      'taMax8': 24,\n",
       "      'taMax8Low': 0,\n",
       "      'taMax8High': 2,\n",
       "      'taMin9': 19,\n",
       "      'taMin9Low': 0,\n",
       "      'taMin9High': 2,\n",
       "      'taMax9': 24,\n",
       "      'taMax9Low': 0,\n",
       "      'taMax9High': 2,\n",
       "      'taMin10': 20,\n",
       "      'taMin10Low': 0,\n",
       "      'taMin10High': 2,\n",
       "      'taMax10': 24,\n",
       "      'taMax10Low': 0,\n",
       "      'taMax10High': 1}]},\n",
       "   'pageNo': 1,\n",
       "   'numOfRows': 10,\n",
       "   'totalCount': 1}}}"
      ]
     },
     "execution_count": 26,
     "metadata": {},
     "output_type": "execute_result"
    }
   ],
   "source": [
    "j"
   ]
  },
  {
   "cell_type": "code",
   "execution_count": 14,
   "metadata": {},
   "outputs": [],
   "source": []
  },
  {
   "cell_type": "code",
   "execution_count": 24,
   "metadata": {},
   "outputs": [
    {
     "name": "stdout",
     "output_type": "stream",
     "text": [
      "API CALL Success\n"
     ]
    }
   ],
   "source": []
  },
  {
   "cell_type": "code",
   "execution_count": 19,
   "metadata": {},
   "outputs": [
    {
     "data": {
      "text/plain": [
       "{'resultCode': '00', 'resultMsg': 'NORMAL_SERVICE'}"
      ]
     },
     "execution_count": 19,
     "metadata": {},
     "output_type": "execute_result"
    }
   ],
   "source": [
    "a"
   ]
  },
  {
   "cell_type": "code",
   "execution_count": null,
   "metadata": {},
   "outputs": [],
   "source": []
  }
 ],
 "metadata": {
  "kernelspec": {
   "display_name": "Python 3",
   "language": "python",
   "name": "python3"
  },
  "language_info": {
   "codemirror_mode": {
    "name": "ipython",
    "version": 3
   },
   "file_extension": ".py",
   "mimetype": "text/x-python",
   "name": "python",
   "nbconvert_exporter": "python",
   "pygments_lexer": "ipython3",
   "version": "3.6.9"
  }
 },
 "nbformat": 4,
 "nbformat_minor": 2
}
