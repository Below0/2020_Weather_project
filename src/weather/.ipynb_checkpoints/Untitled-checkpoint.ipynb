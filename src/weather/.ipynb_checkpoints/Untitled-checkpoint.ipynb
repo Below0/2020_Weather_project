{
 "cells": [
  {
   "cell_type": "code",
   "execution_count": 1,
   "metadata": {},
   "outputs": [],
   "source": [
    "# 4117351000 비산1동"
   ]
  },
  {
   "cell_type": "code",
   "execution_count": 2,
   "metadata": {},
   "outputs": [
    {
     "ename": "SyntaxError",
     "evalue": "invalid syntax (<ipython-input-2-30828d50bf55>, line 1)",
     "output_type": "error",
     "traceback": [
      "\u001b[1;36m  File \u001b[1;32m\"<ipython-input-2-30828d50bf55>\"\u001b[1;36m, line \u001b[1;32m1\u001b[0m\n\u001b[1;33m    0f2to44ZSBP527qwIw6lc6b0cRp22W2ThXgWnrfMGyXeaLSHv7fswO0997FTVjRP38E5jNoHB0m0mZZuNDQx%2BQ%3D%3D\u001b[0m\n\u001b[1;37m                                                                                       ^\u001b[0m\n\u001b[1;31mSyntaxError\u001b[0m\u001b[1;31m:\u001b[0m invalid syntax\n"
     ]
    }
   ],
   "source": []
  },
  {
   "cell_type": "code",
   "execution_count": 25,
   "metadata": {},
   "outputs": [],
   "source": [
    "def make_tmfc(): # 현재 시간을 기점으로 가장 마지막 예보 시간을 리턴\n",
    "    tmFc = time.strftime('%Y%m%d', time.localtime(time.time()))\n",
    "    hour = int(time.strftime('%H', time.localtime(time.time())))\n",
    "    if hour >= 18:\n",
    "        tmFc+=\"1800\"\n",
    "    else:\n",
    "        tmFc+=\"0600\"\n",
    "    return \"&tmFc=\"+tmFc"
   ]
  },
  {
   "cell_type": "code",
   "execution_count": 26,
   "metadata": {},
   "outputs": [],
   "source": [
    "import json\n",
    "import urllib.request\n",
    "import time\n",
    "\n",
    "import json\n",
    "with open(\"./config/config.json\", \"r\") as sk_json:\n",
    "    service_key = json.load(sk_json)['key']\n",
    "    \n",
    "class ShortWeatherService:\n",
    "    \n",
    "    def get_temperature(self,regID = '11B10101'):\n",
    "        address = \"http://apis.data.go.kr/1360000/VilageFcstMsgService/getLandFcst?serviceKey=\"+service_key+\"&numOfRows=10&pageNo=1&numOfRows=10&pageNo=1&dataType=JSON\"\n",
    "        req = urllib.request.urlopen(address+\"&regId=\"+regID)\n",
    "        res = req.readline()\n",
    "        print(address+\"&regId=\"+regID)\n",
    "\n",
    "        j = json.loads(res)\n",
    "\n",
    "        if j['response']['header']['resultCode'] == '00':\n",
    "            j = j['response']['body']['items']['item'][0]\n",
    "            print(j)\n",
    "        else :\n",
    "            print('API CALL Failure')\n",
    "            \n",
    "    def get_fcst(self, regID = '11B00000'):\n",
    "        address = \"http://apis.data.go.kr/1360000/MidFcstInfoService/getMidLandFcst?serviceKey=\"+service_key+\"&numOfRows=10&pageNo=1&dataType=JSON\"\n",
    "        req = urllib.request.urlopen(address+make_tmfc()+\"&regId=\"+regID)\n",
    "        print(address+make_tmfc()+\"&regId=\"+regID)\n",
    "        res = req.readline()\n",
    "        j = json.loads(res)\n",
    "        if j['response']['header']['resultCode'] == '00':\n",
    "            j = j['response']['body']['items']['item'][0]\n",
    "            print(j)\n",
    "        else :\n",
    "            print('API CALL Failure')\n",
    "\n",
    "class MidWeatherService: # 중기예보 서비스 모듈\n",
    "    #default = 서울\n",
    "\n",
    "    \n",
    "    def get_temperature(self,regID = '11B10101'):\n",
    "        address = \"http://apis.data.go.kr/1360000/MidFcstInfoService/getMidTa?serviceKey=\"+service_key+\"&numOfRows=10&pageNo=1&dataType=JSON\"\n",
    "        req = urllib.request.urlopen(address+make_tmfc()+\"&regId=\"+regID)\n",
    "        res = req.readline()\n",
    "\n",
    "        j = json.loads(res)\n",
    "\n",
    "        if j['response']['header']['resultCode'] == '00':\n",
    "            j = j['response']['body']['items']['item'][0]\n",
    "            print(j)\n",
    "        else :\n",
    "            print('API CALL Failure')\n",
    "            \n",
    "    def get_fcst(self, regID = '11B00000'):\n",
    "        address = \"http://apis.data.go.kr/1360000/MidFcstInfoService/getMidLandFcst?serviceKey=\"+service_key+\"&numOfRows=10&pageNo=1&dataType=JSON\"\n",
    "        req = urllib.request.urlopen(address+make_tmfc()+\"&regId=\"+regID)\n",
    "        print(address+make_tmfc()+\"&regId=\"+regID)\n",
    "        res = req.readline()\n",
    "        j = json.loads(res)\n",
    "        if j['response']['header']['resultCode'] == '00':\n",
    "            j = j['response']['body']['items']['item'][0]\n",
    "            print(j)\n",
    "        else :\n",
    "            print('API CALL Failure')\n",
    "            \n"
   ]
  },
  {
   "cell_type": "code",
   "execution_count": 27,
   "metadata": {},
   "outputs": [
    {
     "name": "stdout",
     "output_type": "stream",
     "text": [
      "{'regId': '11B10101', 'taMin3': 21, 'taMin3Low': 1, 'taMin3High': 1, 'taMax3': 29, 'taMax3Low': 1, 'taMax3High': 1, 'taMin4': 22, 'taMin4Low': 1, 'taMin4High': 1, 'taMax4': 30, 'taMax4Low': 2, 'taMax4High': 2, 'taMin5': 22, 'taMin5Low': 1, 'taMin5High': 2, 'taMax5': 29, 'taMax5Low': 3, 'taMax5High': 1, 'taMin6': 22, 'taMin6Low': 1, 'taMin6High': 1, 'taMax6': 30, 'taMax6Low': 2, 'taMax6High': 1, 'taMin7': 21, 'taMin7Low': 2, 'taMin7High': 1, 'taMax7': 29, 'taMax7Low': 1, 'taMax7High': 1, 'taMin8': 21, 'taMin8Low': 0, 'taMin8High': 1, 'taMax8': 29, 'taMax8Low': 0, 'taMax8High': 1, 'taMin9': 22, 'taMin9Low': 0, 'taMin9High': 1, 'taMax9': 29, 'taMax9Low': 0, 'taMax9High': 1, 'taMin10': 22, 'taMin10Low': 0, 'taMin10High': 1, 'taMax10': 28, 'taMax10Low': 0, 'taMax10High': 2}\n"
     ]
    }
   ],
   "source": [
    "mid = MidWeatherService()\n",
    "mid.get_temperature()"
   ]
  },
  {
   "cell_type": "code",
   "execution_count": 28,
   "metadata": {
    "scrolled": true
   },
   "outputs": [],
   "source": [
    "short = ShortWeatherService()"
   ]
  },
  {
   "cell_type": "code",
   "execution_count": 29,
   "metadata": {},
   "outputs": [
    {
     "name": "stdout",
     "output_type": "stream",
     "text": [
      "http://apis.data.go.kr/1360000/VilageFcstMsgService/getLandFcst?serviceKey=0f2to44ZSBP527qwIw6lc6b0cRp22W2ThXgWnrfMGyXeaLSHv7fswO0997FTVjRP38E5jNoHB0m0mZZuNDQx%2BQ%3D%3D&numOfRows=10&pageNo=1&numOfRows=10&pageNo=1&dataType=JSON&regId=11B10101\n"
     ]
    },
    {
     "ename": "JSONDecodeError",
     "evalue": "Expecting value: line 1 column 1 (char 0)",
     "output_type": "error",
     "traceback": [
      "\u001b[1;31m---------------------------------------------------------------------------\u001b[0m",
      "\u001b[1;31mJSONDecodeError\u001b[0m                           Traceback (most recent call last)",
      "\u001b[1;32m<ipython-input-29-23a66a938588>\u001b[0m in \u001b[0;36m<module>\u001b[1;34m\u001b[0m\n\u001b[1;32m----> 1\u001b[1;33m \u001b[0mshort\u001b[0m\u001b[1;33m.\u001b[0m\u001b[0mget_temperature\u001b[0m\u001b[1;33m(\u001b[0m\u001b[1;33m)\u001b[0m\u001b[1;33m\u001b[0m\u001b[1;33m\u001b[0m\u001b[0m\n\u001b[0m\u001b[0;32m      2\u001b[0m \u001b[1;33m\u001b[0m\u001b[0m\n",
      "\u001b[1;32m<ipython-input-26-2537a7c7c441>\u001b[0m in \u001b[0;36mget_temperature\u001b[1;34m(self, regID)\u001b[0m\n\u001b[0;32m     15\u001b[0m         \u001b[0mprint\u001b[0m\u001b[1;33m(\u001b[0m\u001b[0maddress\u001b[0m\u001b[1;33m+\u001b[0m\u001b[1;34m\"&regId=\"\u001b[0m\u001b[1;33m+\u001b[0m\u001b[0mregID\u001b[0m\u001b[1;33m)\u001b[0m\u001b[1;33m\u001b[0m\u001b[1;33m\u001b[0m\u001b[0m\n\u001b[0;32m     16\u001b[0m \u001b[1;33m\u001b[0m\u001b[0m\n\u001b[1;32m---> 17\u001b[1;33m         \u001b[0mj\u001b[0m \u001b[1;33m=\u001b[0m \u001b[0mjson\u001b[0m\u001b[1;33m.\u001b[0m\u001b[0mloads\u001b[0m\u001b[1;33m(\u001b[0m\u001b[0mres\u001b[0m\u001b[1;33m)\u001b[0m\u001b[1;33m\u001b[0m\u001b[1;33m\u001b[0m\u001b[0m\n\u001b[0m\u001b[0;32m     18\u001b[0m \u001b[1;33m\u001b[0m\u001b[0m\n\u001b[0;32m     19\u001b[0m         \u001b[1;32mif\u001b[0m \u001b[0mj\u001b[0m\u001b[1;33m[\u001b[0m\u001b[1;34m'response'\u001b[0m\u001b[1;33m]\u001b[0m\u001b[1;33m[\u001b[0m\u001b[1;34m'header'\u001b[0m\u001b[1;33m]\u001b[0m\u001b[1;33m[\u001b[0m\u001b[1;34m'resultCode'\u001b[0m\u001b[1;33m]\u001b[0m \u001b[1;33m==\u001b[0m \u001b[1;34m'00'\u001b[0m\u001b[1;33m:\u001b[0m\u001b[1;33m\u001b[0m\u001b[1;33m\u001b[0m\u001b[0m\n",
      "\u001b[1;32m~\\Anaconda3\\lib\\json\\__init__.py\u001b[0m in \u001b[0;36mloads\u001b[1;34m(s, encoding, cls, object_hook, parse_float, parse_int, parse_constant, object_pairs_hook, **kw)\u001b[0m\n\u001b[0;32m    352\u001b[0m             \u001b[0mparse_int\u001b[0m \u001b[1;32mis\u001b[0m \u001b[1;32mNone\u001b[0m \u001b[1;32mand\u001b[0m \u001b[0mparse_float\u001b[0m \u001b[1;32mis\u001b[0m \u001b[1;32mNone\u001b[0m \u001b[1;32mand\u001b[0m\u001b[1;33m\u001b[0m\u001b[1;33m\u001b[0m\u001b[0m\n\u001b[0;32m    353\u001b[0m             parse_constant is None and object_pairs_hook is None and not kw):\n\u001b[1;32m--> 354\u001b[1;33m         \u001b[1;32mreturn\u001b[0m \u001b[0m_default_decoder\u001b[0m\u001b[1;33m.\u001b[0m\u001b[0mdecode\u001b[0m\u001b[1;33m(\u001b[0m\u001b[0ms\u001b[0m\u001b[1;33m)\u001b[0m\u001b[1;33m\u001b[0m\u001b[1;33m\u001b[0m\u001b[0m\n\u001b[0m\u001b[0;32m    355\u001b[0m     \u001b[1;32mif\u001b[0m \u001b[0mcls\u001b[0m \u001b[1;32mis\u001b[0m \u001b[1;32mNone\u001b[0m\u001b[1;33m:\u001b[0m\u001b[1;33m\u001b[0m\u001b[1;33m\u001b[0m\u001b[0m\n\u001b[0;32m    356\u001b[0m         \u001b[0mcls\u001b[0m \u001b[1;33m=\u001b[0m \u001b[0mJSONDecoder\u001b[0m\u001b[1;33m\u001b[0m\u001b[1;33m\u001b[0m\u001b[0m\n",
      "\u001b[1;32m~\\Anaconda3\\lib\\json\\decoder.py\u001b[0m in \u001b[0;36mdecode\u001b[1;34m(self, s, _w)\u001b[0m\n\u001b[0;32m    337\u001b[0m \u001b[1;33m\u001b[0m\u001b[0m\n\u001b[0;32m    338\u001b[0m         \"\"\"\n\u001b[1;32m--> 339\u001b[1;33m         \u001b[0mobj\u001b[0m\u001b[1;33m,\u001b[0m \u001b[0mend\u001b[0m \u001b[1;33m=\u001b[0m \u001b[0mself\u001b[0m\u001b[1;33m.\u001b[0m\u001b[0mraw_decode\u001b[0m\u001b[1;33m(\u001b[0m\u001b[0ms\u001b[0m\u001b[1;33m,\u001b[0m \u001b[0midx\u001b[0m\u001b[1;33m=\u001b[0m\u001b[0m_w\u001b[0m\u001b[1;33m(\u001b[0m\u001b[0ms\u001b[0m\u001b[1;33m,\u001b[0m \u001b[1;36m0\u001b[0m\u001b[1;33m)\u001b[0m\u001b[1;33m.\u001b[0m\u001b[0mend\u001b[0m\u001b[1;33m(\u001b[0m\u001b[1;33m)\u001b[0m\u001b[1;33m)\u001b[0m\u001b[1;33m\u001b[0m\u001b[1;33m\u001b[0m\u001b[0m\n\u001b[0m\u001b[0;32m    340\u001b[0m         \u001b[0mend\u001b[0m \u001b[1;33m=\u001b[0m \u001b[0m_w\u001b[0m\u001b[1;33m(\u001b[0m\u001b[0ms\u001b[0m\u001b[1;33m,\u001b[0m \u001b[0mend\u001b[0m\u001b[1;33m)\u001b[0m\u001b[1;33m.\u001b[0m\u001b[0mend\u001b[0m\u001b[1;33m(\u001b[0m\u001b[1;33m)\u001b[0m\u001b[1;33m\u001b[0m\u001b[1;33m\u001b[0m\u001b[0m\n\u001b[0;32m    341\u001b[0m         \u001b[1;32mif\u001b[0m \u001b[0mend\u001b[0m \u001b[1;33m!=\u001b[0m \u001b[0mlen\u001b[0m\u001b[1;33m(\u001b[0m\u001b[0ms\u001b[0m\u001b[1;33m)\u001b[0m\u001b[1;33m:\u001b[0m\u001b[1;33m\u001b[0m\u001b[1;33m\u001b[0m\u001b[0m\n",
      "\u001b[1;32m~\\Anaconda3\\lib\\json\\decoder.py\u001b[0m in \u001b[0;36mraw_decode\u001b[1;34m(self, s, idx)\u001b[0m\n\u001b[0;32m    355\u001b[0m             \u001b[0mobj\u001b[0m\u001b[1;33m,\u001b[0m \u001b[0mend\u001b[0m \u001b[1;33m=\u001b[0m \u001b[0mself\u001b[0m\u001b[1;33m.\u001b[0m\u001b[0mscan_once\u001b[0m\u001b[1;33m(\u001b[0m\u001b[0ms\u001b[0m\u001b[1;33m,\u001b[0m \u001b[0midx\u001b[0m\u001b[1;33m)\u001b[0m\u001b[1;33m\u001b[0m\u001b[1;33m\u001b[0m\u001b[0m\n\u001b[0;32m    356\u001b[0m         \u001b[1;32mexcept\u001b[0m \u001b[0mStopIteration\u001b[0m \u001b[1;32mas\u001b[0m \u001b[0merr\u001b[0m\u001b[1;33m:\u001b[0m\u001b[1;33m\u001b[0m\u001b[1;33m\u001b[0m\u001b[0m\n\u001b[1;32m--> 357\u001b[1;33m             \u001b[1;32mraise\u001b[0m \u001b[0mJSONDecodeError\u001b[0m\u001b[1;33m(\u001b[0m\u001b[1;34m\"Expecting value\"\u001b[0m\u001b[1;33m,\u001b[0m \u001b[0ms\u001b[0m\u001b[1;33m,\u001b[0m \u001b[0merr\u001b[0m\u001b[1;33m.\u001b[0m\u001b[0mvalue\u001b[0m\u001b[1;33m)\u001b[0m \u001b[1;32mfrom\u001b[0m \u001b[1;32mNone\u001b[0m\u001b[1;33m\u001b[0m\u001b[1;33m\u001b[0m\u001b[0m\n\u001b[0m\u001b[0;32m    358\u001b[0m         \u001b[1;32mreturn\u001b[0m \u001b[0mobj\u001b[0m\u001b[1;33m,\u001b[0m \u001b[0mend\u001b[0m\u001b[1;33m\u001b[0m\u001b[1;33m\u001b[0m\u001b[0m\n",
      "\u001b[1;31mJSONDecodeError\u001b[0m: Expecting value: line 1 column 1 (char 0)"
     ]
    }
   ],
   "source": [
    "short.get_temperature()\n",
    "\n"
   ]
  },
  {
   "cell_type": "code",
   "execution_count": null,
   "metadata": {},
   "outputs": [],
   "source": []
  }
 ],
 "metadata": {
  "kernelspec": {
   "display_name": "Python 3",
   "language": "python",
   "name": "python3"
  },
  "language_info": {
   "codemirror_mode": {
    "name": "ipython",
    "version": 3
   },
   "file_extension": ".py",
   "mimetype": "text/x-python",
   "name": "python",
   "nbconvert_exporter": "python",
   "pygments_lexer": "ipython3",
   "version": "3.6.9"
  }
 },
 "nbformat": 4,
 "nbformat_minor": 2
}
